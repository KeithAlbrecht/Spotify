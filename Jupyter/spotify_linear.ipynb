{
 "cells": [
  {
   "cell_type": "code",
   "execution_count": 1,
   "metadata": {},
   "outputs": [],
   "source": [
    " %matplotlib inline\n",
    "import matplotlib.pyplot as plt\n",
    "import numpy as np\n",
    "import pandas as pd"
   ]
  },
  {
   "cell_type": "code",
   "execution_count": 2,
   "metadata": {},
   "outputs": [],
   "source": [
    "import os\n",
    "import tensorflow as tf\n",
    "from tensorflow.keras.models import Sequential\n",
    "from tensorflow.keras.utils import to_categorical\n",
    "from tensorflow.keras.layers import Dense\n",
    "import sys\n",
    "\n",
    "\n",
    "np.set_printoptions(threshold=sys.maxsize)"
   ]
  },
  {
   "cell_type": "code",
   "execution_count": 3,
   "metadata": {},
   "outputs": [
    {
     "data": {
      "text/plain": [
       "Index(['URI', 'Artist', 'Song', 'Release Date', 'Popularity', 'Acousticness',\n",
       "       'Danceability', 'Energy', 'Instrumentalness', 'Loudness', 'Speechiness',\n",
       "       'Tempo', 'Valence', 'Duration (ms)', 'WH', 'War?', 'Decade'],\n",
       "      dtype='object')"
      ]
     },
     "execution_count": 3,
     "metadata": {},
     "output_type": "execute_result"
    }
   ],
   "source": [
    "billboard = pd.read_csv(r'C:\\Users\\kalbrecht\\Desktop\\Final Project\\final.csv')\n",
    "billboard_df = billboard\n",
    "billboard_df.columns"
   ]
  },
  {
   "cell_type": "code",
   "execution_count": 4,
   "metadata": {},
   "outputs": [
    {
     "data": {
      "text/html": [
       "<div>\n",
       "<style scoped>\n",
       "    .dataframe tbody tr th:only-of-type {\n",
       "        vertical-align: middle;\n",
       "    }\n",
       "\n",
       "    .dataframe tbody tr th {\n",
       "        vertical-align: top;\n",
       "    }\n",
       "\n",
       "    .dataframe thead th {\n",
       "        text-align: right;\n",
       "    }\n",
       "</style>\n",
       "<table border=\"1\" class=\"dataframe\">\n",
       "  <thead>\n",
       "    <tr style=\"text-align: right;\">\n",
       "      <th></th>\n",
       "      <th>URI</th>\n",
       "      <th>Artist</th>\n",
       "      <th>Song</th>\n",
       "      <th>Release Date</th>\n",
       "      <th>Popularity</th>\n",
       "      <th>Acousticness</th>\n",
       "      <th>Danceability</th>\n",
       "      <th>Energy</th>\n",
       "      <th>Instrumentalness</th>\n",
       "      <th>Loudness</th>\n",
       "      <th>Speechiness</th>\n",
       "      <th>Tempo</th>\n",
       "      <th>Valence</th>\n",
       "      <th>Duration (ms)</th>\n",
       "      <th>WH</th>\n",
       "      <th>War?</th>\n",
       "      <th>Decade</th>\n",
       "    </tr>\n",
       "  </thead>\n",
       "  <tbody>\n",
       "    <tr>\n",
       "      <th>0</th>\n",
       "      <td>spotify:track:1fhLgOJgIIZEsWWffk8ljs</td>\n",
       "      <td>The Weavers</td>\n",
       "      <td>Goodnight Irene</td>\n",
       "      <td>1950</td>\n",
       "      <td>13</td>\n",
       "      <td>0.832</td>\n",
       "      <td>0.367</td>\n",
       "      <td>0.261</td>\n",
       "      <td>0.000000</td>\n",
       "      <td>-10.404</td>\n",
       "      <td>0.0289</td>\n",
       "      <td>140.820</td>\n",
       "      <td>0.576</td>\n",
       "      <td>202240</td>\n",
       "      <td>D</td>\n",
       "      <td>War</td>\n",
       "      <td>1950</td>\n",
       "    </tr>\n",
       "    <tr>\n",
       "      <th>1</th>\n",
       "      <td>spotify:track:5dae01pKNjRQtgOeAkFzPY</td>\n",
       "      <td>Nat King Cole</td>\n",
       "      <td>Mona Lisa</td>\n",
       "      <td>1950</td>\n",
       "      <td>51</td>\n",
       "      <td>0.948</td>\n",
       "      <td>0.251</td>\n",
       "      <td>0.225</td>\n",
       "      <td>0.000000</td>\n",
       "      <td>-12.125</td>\n",
       "      <td>0.0347</td>\n",
       "      <td>166.320</td>\n",
       "      <td>0.324</td>\n",
       "      <td>194987</td>\n",
       "      <td>D</td>\n",
       "      <td>War</td>\n",
       "      <td>1950</td>\n",
       "    </tr>\n",
       "    <tr>\n",
       "      <th>2</th>\n",
       "      <td>spotify:track:68GJRIs9vkHFy9l0Sbdsix</td>\n",
       "      <td>Various Artists</td>\n",
       "      <td>The Third Man (The Harry Lime Theme)</td>\n",
       "      <td>1950</td>\n",
       "      <td>12</td>\n",
       "      <td>0.911</td>\n",
       "      <td>0.473</td>\n",
       "      <td>0.161</td>\n",
       "      <td>0.909000</td>\n",
       "      <td>-17.505</td>\n",
       "      <td>0.0328</td>\n",
       "      <td>131.775</td>\n",
       "      <td>0.364</td>\n",
       "      <td>149964</td>\n",
       "      <td>D</td>\n",
       "      <td>War</td>\n",
       "      <td>1950</td>\n",
       "    </tr>\n",
       "    <tr>\n",
       "      <th>3</th>\n",
       "      <td>spotify:track:33FdwvfiSBRbE2AQ4UehaR</td>\n",
       "      <td>Bing Crosby</td>\n",
       "      <td>Play A Simple Melody - Single Version</td>\n",
       "      <td>1950</td>\n",
       "      <td>10</td>\n",
       "      <td>0.771</td>\n",
       "      <td>0.630</td>\n",
       "      <td>0.222</td>\n",
       "      <td>0.000002</td>\n",
       "      <td>-13.740</td>\n",
       "      <td>0.0522</td>\n",
       "      <td>138.497</td>\n",
       "      <td>0.778</td>\n",
       "      <td>175693</td>\n",
       "      <td>D</td>\n",
       "      <td>War</td>\n",
       "      <td>1950</td>\n",
       "    </tr>\n",
       "    <tr>\n",
       "      <th>4</th>\n",
       "      <td>spotify:track:68ZOKozM9xmlp1iwaQSwY7</td>\n",
       "      <td>Teresa Brewer</td>\n",
       "      <td>Music! Music! Music!</td>\n",
       "      <td>1950</td>\n",
       "      <td>26</td>\n",
       "      <td>0.688</td>\n",
       "      <td>0.761</td>\n",
       "      <td>0.448</td>\n",
       "      <td>0.000019</td>\n",
       "      <td>-14.350</td>\n",
       "      <td>0.0402</td>\n",
       "      <td>99.078</td>\n",
       "      <td>0.928</td>\n",
       "      <td>162400</td>\n",
       "      <td>D</td>\n",
       "      <td>War</td>\n",
       "      <td>1950</td>\n",
       "    </tr>\n",
       "  </tbody>\n",
       "</table>\n",
       "</div>"
      ],
      "text/plain": [
       "                                    URI           Artist  \\\n",
       "0  spotify:track:1fhLgOJgIIZEsWWffk8ljs      The Weavers   \n",
       "1  spotify:track:5dae01pKNjRQtgOeAkFzPY    Nat King Cole   \n",
       "2  spotify:track:68GJRIs9vkHFy9l0Sbdsix  Various Artists   \n",
       "3  spotify:track:33FdwvfiSBRbE2AQ4UehaR      Bing Crosby   \n",
       "4  spotify:track:68ZOKozM9xmlp1iwaQSwY7    Teresa Brewer   \n",
       "\n",
       "                                    Song  Release Date  Popularity  \\\n",
       "0                        Goodnight Irene          1950          13   \n",
       "1                              Mona Lisa          1950          51   \n",
       "2   The Third Man (The Harry Lime Theme)          1950          12   \n",
       "3  Play A Simple Melody - Single Version          1950          10   \n",
       "4                   Music! Music! Music!          1950          26   \n",
       "\n",
       "   Acousticness  Danceability  Energy  Instrumentalness  Loudness  \\\n",
       "0         0.832         0.367   0.261          0.000000   -10.404   \n",
       "1         0.948         0.251   0.225          0.000000   -12.125   \n",
       "2         0.911         0.473   0.161          0.909000   -17.505   \n",
       "3         0.771         0.630   0.222          0.000002   -13.740   \n",
       "4         0.688         0.761   0.448          0.000019   -14.350   \n",
       "\n",
       "   Speechiness    Tempo  Valence  Duration (ms) WH War?  Decade  \n",
       "0       0.0289  140.820    0.576         202240  D  War    1950  \n",
       "1       0.0347  166.320    0.324         194987  D  War    1950  \n",
       "2       0.0328  131.775    0.364         149964  D  War    1950  \n",
       "3       0.0522  138.497    0.778         175693  D  War    1950  \n",
       "4       0.0402   99.078    0.928         162400  D  War    1950  "
      ]
     },
     "execution_count": 4,
     "metadata": {},
     "output_type": "execute_result"
    }
   ],
   "source": [
    "billboard_df.head()"
   ]
  },
  {
   "cell_type": "code",
   "execution_count": null,
   "metadata": {},
   "outputs": [],
   "source": []
  },
  {
   "cell_type": "code",
   "execution_count": null,
   "metadata": {},
   "outputs": [],
   "source": []
  },
  {
   "cell_type": "code",
   "execution_count": 5,
   "metadata": {},
   "outputs": [
    {
     "name": "stdout",
     "output_type": "stream",
     "text": [
      "(547, 10) (547, 1)\n"
     ]
    },
    {
     "data": {
      "text/plain": [
       "(547, 10)"
      ]
     },
     "execution_count": 5,
     "metadata": {},
     "output_type": "execute_result"
    }
   ],
   "source": [
    "X = billboard_df[['Popularity', 'Acousticness',\n",
    "       'Danceability', 'Energy', 'Instrumentalness', 'Loudness', 'Speechiness',\n",
    "       'Tempo', 'Valence', 'Duration (ms)']]\n",
    "y = billboard_df[\"Release Date\"].values.reshape(-1, 1)\n",
    "print(X.shape, y.shape)\n",
    "X.shape"
   ]
  },
  {
   "cell_type": "code",
   "execution_count": 6,
   "metadata": {},
   "outputs": [],
   "source": [
    "# For linear regression\n",
    "\n",
    "from sklearn.model_selection import train_test_split\n",
    "\n",
    "X_train, X_test, y_train, y_test = train_test_split(X, y, random_state=42)"
   ]
  },
  {
   "cell_type": "code",
   "execution_count": 7,
   "metadata": {},
   "outputs": [],
   "source": [
    "from sklearn.preprocessing import StandardScaler\n",
    "\n",
    "X_scaler = StandardScaler().fit(X_train)\n",
    "\n",
    "X_train_scaled = X_scaler.transform(X_train)\n",
    "X_test_scaled = X_scaler.transform(X_test)"
   ]
  },
  {
   "cell_type": "code",
   "execution_count": 8,
   "metadata": {},
   "outputs": [
    {
     "name": "stdout",
     "output_type": "stream",
     "text": [
      "Training Score: 0.655456853701242\n",
      "Testing Score: 0.7081432704068881\n"
     ]
    }
   ],
   "source": [
    "from sklearn.linear_model import LinearRegression\n",
    "model = LinearRegression()\n",
    "\n",
    "model.fit(X_train_scaled, y_train)\n",
    "training_score = model.score(X_train_scaled, y_train)\n",
    "testing_score = model.score(X_test_scaled, y_test)\n",
    "\n",
    "\n",
    "print(f\"Training Score: {training_score}\")\n",
    "print(f\"Testing Score: {testing_score}\")"
   ]
  },
  {
   "cell_type": "code",
   "execution_count": 9,
   "metadata": {},
   "outputs": [
    {
     "data": {
      "text/plain": [
       "Text(0.5, 1.0, 'Residual Plot')"
      ]
     },
     "execution_count": 9,
     "metadata": {},
     "output_type": "execute_result"
    },
    {
     "data": {
      "image/png": "[encoded data removed]",
      "text/plain": [
       "<Figure size 432x288 with 1 Axes>"
      ]
     },
     "metadata": {
      "needs_background": "light"
     },
     "output_type": "display_data"
    }
   ],
   "source": [
    "plt.scatter(model.predict(X_train_scaled), model.predict(X_train_scaled) - y_train, c=\"blue\", label=\"Training Data\")\n",
    "plt.scatter(model.predict(X_test_scaled), model.predict(X_test_scaled) - y_test, c=\"orange\", label=\"Testing Data\")\n",
    "plt.legend()\n",
    "plt.hlines(y=0, xmin=y.min(), xmax=y.max())\n",
    "plt.title(\"Residual Plot\")"
   ]
  },
  {
   "cell_type": "code",
   "execution_count": 10,
   "metadata": {},
   "outputs": [],
   "source": [
    "import pickle\n",
    "\n",
    "pkl_filename = \"spotify_model.pkl\"\n",
    "with open(pkl_filename, 'wb') as file:\n",
    "    pickle.dump(model, file)\n",
    "\n",
    "# Load from file\n",
    "with open(pkl_filename, 'rb') as file:\n",
    "    spotify_model = pickle.load(file)"
   ]
  },
  {
   "cell_type": "code",
   "execution_count": 11,
   "metadata": {},
   "outputs": [
    {
     "name": "stderr",
     "output_type": "stream",
     "text": [
      "C:\\Users\\kalbrecht\\Anaconda\\anaconda3\\lib\\site-packages\\sklearn\\externals\\joblib\\__init__.py:15: DeprecationWarning: sklearn.externals.joblib is deprecated in 0.21 and will be removed in 0.23. Please import this functionality directly from joblib, which can be installed with: pip install joblib. If this warning is raised when loading pickled models, you may need to re-serialize those models with scikit-learn 0.21+.\n",
      "  warnings.warn(msg, category=DeprecationWarning)\n"
     ]
    },
    {
     "data": {
      "text/plain": [
       "['decade_model.pkl']"
      ]
     },
     "execution_count": 11,
     "metadata": {},
     "output_type": "execute_result"
    }
   ],
   "source": [
    "from sklearn.externals import joblib\n",
    "joblib.dump(model, 'decade_model.pkl') "
   ]
  },
  {
   "cell_type": "code",
   "execution_count": 12,
   "metadata": {},
   "outputs": [],
   "source": [
    "with open('decade_model.pkl', 'rb') as f:\n",
    "    model = joblib.load(f)"
   ]
  }
 ],
 "metadata": {
  "kernelspec": {
   "display_name": "Python 3",
   "language": "python",
   "name": "python3"
  },
  "language_info": {
   "codemirror_mode": {
    "name": "ipython",
    "version": 3
   },
   "file_extension": ".py",
   "mimetype": "text/x-python",
   "name": "python",
   "nbconvert_exporter": "python",
   "pygments_lexer": "ipython3",
   "version": "3.7.3"
  }
 },
 "nbformat": 4,
 "nbformat_minor": 2
}
