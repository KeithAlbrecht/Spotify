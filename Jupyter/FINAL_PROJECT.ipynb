{
 "cells": [
  {
   "cell_type": "code",
   "execution_count": 1,
   "metadata": {},
   "outputs": [
    {
     "data": {
      "text/plain": [
       "'2.2.4-tf'"
      ]
     },
     "execution_count": 1,
     "metadata": {},
     "output_type": "execute_result"
    }
   ],
   "source": [
    "# ML Spotify data\n",
    "# Predictions on Year, Genre, War/peace, Ruling party\n",
    "import spotipy\n",
    "import pandas as pd\n",
    "import pprint as pprint\n",
    "# import matplotlib.pyplot as plt\n",
    "# import scipy.stats as stats\n",
    "# from scipy.stats import linregress\n",
    "import matplotlib.pyplot as plt\n",
    "from numpy.random import seed\n",
    "seed(1)\n",
    "from config import client_id\n",
    "from config import client_secret\n",
    "from spotipy.oauth2 import SpotifyClientCredentials\n",
    "client_credentials_manager = SpotifyClientCredentials(client_id,\n",
    "                                                     client_secret)\n",
    "import tensorflow\n",
    "tensorflow.keras.__version__"
   ]
  },
  {
   "cell_type": "code",
   "execution_count": 2,
   "metadata": {},
   "outputs": [],
   "source": [
    "sp = spotipy.Spotify(client_credentials_manager=client_credentials_manager)"
   ]
  },
  {
   "cell_type": "code",
   "execution_count": 3,
   "metadata": {},
   "outputs": [],
   "source": [
    "billboard = pd.read_csv('final.csv')\n",
    "billboard_df = pd.DataFrame(billboard)"
   ]
  },
  {
   "cell_type": "code",
   "execution_count": 4,
   "metadata": {},
   "outputs": [
    {
     "data": {
      "text/html": [
       "<div>\n",
       "<style scoped>\n",
       "    .dataframe tbody tr th:only-of-type {\n",
       "        vertical-align: middle;\n",
       "    }\n",
       "\n",
       "    .dataframe tbody tr th {\n",
       "        vertical-align: top;\n",
       "    }\n",
       "\n",
       "    .dataframe thead th {\n",
       "        text-align: right;\n",
       "    }\n",
       "</style>\n",
       "<table border=\"1\" class=\"dataframe\">\n",
       "  <thead>\n",
       "    <tr style=\"text-align: right;\">\n",
       "      <th></th>\n",
       "      <th>URI</th>\n",
       "      <th>Artist</th>\n",
       "      <th>Song</th>\n",
       "      <th>Release Date</th>\n",
       "      <th>Popularity</th>\n",
       "      <th>Acousticness</th>\n",
       "      <th>Danceability</th>\n",
       "      <th>Energy</th>\n",
       "      <th>Instrumentalness</th>\n",
       "      <th>Loudness</th>\n",
       "      <th>Speechiness</th>\n",
       "      <th>Tempo</th>\n",
       "      <th>Valence</th>\n",
       "      <th>Duration (ms)</th>\n",
       "      <th>WH</th>\n",
       "      <th>War?</th>\n",
       "      <th>Decade</th>\n",
       "    </tr>\n",
       "  </thead>\n",
       "  <tbody>\n",
       "    <tr>\n",
       "      <th>0</th>\n",
       "      <td>spotify:track:1fhLgOJgIIZEsWWffk8ljs</td>\n",
       "      <td>The Weavers</td>\n",
       "      <td>Goodnight Irene</td>\n",
       "      <td>1950</td>\n",
       "      <td>13</td>\n",
       "      <td>0.832</td>\n",
       "      <td>0.367</td>\n",
       "      <td>0.261</td>\n",
       "      <td>0.000000</td>\n",
       "      <td>-10.404</td>\n",
       "      <td>0.0289</td>\n",
       "      <td>140.820</td>\n",
       "      <td>0.576</td>\n",
       "      <td>202240</td>\n",
       "      <td>D</td>\n",
       "      <td>War</td>\n",
       "      <td>1950</td>\n",
       "    </tr>\n",
       "    <tr>\n",
       "      <th>1</th>\n",
       "      <td>spotify:track:5dae01pKNjRQtgOeAkFzPY</td>\n",
       "      <td>Nat King Cole</td>\n",
       "      <td>Mona Lisa</td>\n",
       "      <td>1950</td>\n",
       "      <td>51</td>\n",
       "      <td>0.948</td>\n",
       "      <td>0.251</td>\n",
       "      <td>0.225</td>\n",
       "      <td>0.000000</td>\n",
       "      <td>-12.125</td>\n",
       "      <td>0.0347</td>\n",
       "      <td>166.320</td>\n",
       "      <td>0.324</td>\n",
       "      <td>194987</td>\n",
       "      <td>D</td>\n",
       "      <td>War</td>\n",
       "      <td>1950</td>\n",
       "    </tr>\n",
       "    <tr>\n",
       "      <th>2</th>\n",
       "      <td>spotify:track:68GJRIs9vkHFy9l0Sbdsix</td>\n",
       "      <td>Various Artists</td>\n",
       "      <td>The Third Man (The Harry Lime Theme)</td>\n",
       "      <td>1950</td>\n",
       "      <td>12</td>\n",
       "      <td>0.911</td>\n",
       "      <td>0.473</td>\n",
       "      <td>0.161</td>\n",
       "      <td>0.909000</td>\n",
       "      <td>-17.505</td>\n",
       "      <td>0.0328</td>\n",
       "      <td>131.775</td>\n",
       "      <td>0.364</td>\n",
       "      <td>149964</td>\n",
       "      <td>D</td>\n",
       "      <td>War</td>\n",
       "      <td>1950</td>\n",
       "    </tr>\n",
       "    <tr>\n",
       "      <th>3</th>\n",
       "      <td>spotify:track:33FdwvfiSBRbE2AQ4UehaR</td>\n",
       "      <td>Bing Crosby</td>\n",
       "      <td>Play A Simple Melody - Single Version</td>\n",
       "      <td>1950</td>\n",
       "      <td>10</td>\n",
       "      <td>0.771</td>\n",
       "      <td>0.630</td>\n",
       "      <td>0.222</td>\n",
       "      <td>0.000002</td>\n",
       "      <td>-13.740</td>\n",
       "      <td>0.0522</td>\n",
       "      <td>138.497</td>\n",
       "      <td>0.778</td>\n",
       "      <td>175693</td>\n",
       "      <td>D</td>\n",
       "      <td>War</td>\n",
       "      <td>1950</td>\n",
       "    </tr>\n",
       "    <tr>\n",
       "      <th>4</th>\n",
       "      <td>spotify:track:68ZOKozM9xmlp1iwaQSwY7</td>\n",
       "      <td>Teresa Brewer</td>\n",
       "      <td>Music! Music! Music!</td>\n",
       "      <td>1950</td>\n",
       "      <td>26</td>\n",
       "      <td>0.688</td>\n",
       "      <td>0.761</td>\n",
       "      <td>0.448</td>\n",
       "      <td>0.000019</td>\n",
       "      <td>-14.350</td>\n",
       "      <td>0.0402</td>\n",
       "      <td>99.078</td>\n",
       "      <td>0.928</td>\n",
       "      <td>162400</td>\n",
       "      <td>D</td>\n",
       "      <td>War</td>\n",
       "      <td>1950</td>\n",
       "    </tr>\n",
       "  </tbody>\n",
       "</table>\n",
       "</div>"
      ],
      "text/plain": [
       "                                    URI           Artist  \\\n",
       "0  spotify:track:1fhLgOJgIIZEsWWffk8ljs      The Weavers   \n",
       "1  spotify:track:5dae01pKNjRQtgOeAkFzPY    Nat King Cole   \n",
       "2  spotify:track:68GJRIs9vkHFy9l0Sbdsix  Various Artists   \n",
       "3  spotify:track:33FdwvfiSBRbE2AQ4UehaR      Bing Crosby   \n",
       "4  spotify:track:68ZOKozM9xmlp1iwaQSwY7    Teresa Brewer   \n",
       "\n",
       "                                    Song  Release Date  Popularity  \\\n",
       "0                        Goodnight Irene          1950          13   \n",
       "1                              Mona Lisa          1950          51   \n",
       "2   The Third Man (The Harry Lime Theme)          1950          12   \n",
       "3  Play A Simple Melody - Single Version          1950          10   \n",
       "4                   Music! Music! Music!          1950          26   \n",
       "\n",
       "   Acousticness  Danceability  Energy  Instrumentalness  Loudness  \\\n",
       "0         0.832         0.367   0.261          0.000000   -10.404   \n",
       "1         0.948         0.251   0.225          0.000000   -12.125   \n",
       "2         0.911         0.473   0.161          0.909000   -17.505   \n",
       "3         0.771         0.630   0.222          0.000002   -13.740   \n",
       "4         0.688         0.761   0.448          0.000019   -14.350   \n",
       "\n",
       "   Speechiness    Tempo  Valence  Duration (ms) WH War?  Decade  \n",
       "0       0.0289  140.820    0.576         202240  D  War    1950  \n",
       "1       0.0347  166.320    0.324         194987  D  War    1950  \n",
       "2       0.0328  131.775    0.364         149964  D  War    1950  \n",
       "3       0.0522  138.497    0.778         175693  D  War    1950  \n",
       "4       0.0402   99.078    0.928         162400  D  War    1950  "
      ]
     },
     "execution_count": 4,
     "metadata": {},
     "output_type": "execute_result"
    }
   ],
   "source": [
    "billboard_df.head()"
   ]
  },
  {
   "cell_type": "code",
   "execution_count": 5,
   "metadata": {},
   "outputs": [
    {
     "data": {
      "text/plain": [
       "Index(['URI', 'Artist', 'Song', 'Release Date', 'Popularity', 'Acousticness',\n",
       "       'Danceability', 'Energy', 'Instrumentalness', 'Loudness', 'Speechiness',\n",
       "       'Tempo', 'Valence', 'Duration (ms)', 'WH', 'War?', 'Decade'],\n",
       "      dtype='object')"
      ]
     },
     "execution_count": 5,
     "metadata": {},
     "output_type": "execute_result"
    }
   ],
   "source": [
    "# Year Predictor\n",
    "len(billboard_df)\n",
    "billboard_df.columns"
   ]
  },
  {
   "cell_type": "code",
   "execution_count": 6,
   "metadata": {},
   "outputs": [],
   "source": [
    "X = billboard_df[['Popularity', 'Acousticness',\n",
    "       'Danceability', 'Energy', 'Instrumentalness', 'Loudness', 'Speechiness',\n",
    "       'Tempo', 'Valence', 'Duration (ms)']]\n",
    "y = billboard_df['Release Date'].values.reshape(-1, 1)"
   ]
  },
  {
   "cell_type": "code",
   "execution_count": 7,
   "metadata": {},
   "outputs": [],
   "source": [
    "from sklearn.model_selection import train_test_split\n",
    "X_train, X_test, y_train, y_test = train_test_split(X, y, random_state=42)"
   ]
  },
  {
   "cell_type": "code",
   "execution_count": 8,
   "metadata": {},
   "outputs": [],
   "source": [
    "from sklearn.preprocessing import StandardScaler\n",
    "X_scaler = StandardScaler().fit(X_train)\n",
    "X_train_scaled = X_scaler.transform(X_train)\n",
    "X_test_scaled = X_scaler.transform(X_test)"
   ]
  },
  {
   "cell_type": "code",
   "execution_count": 30,
   "metadata": {},
   "outputs": [],
   "source": [
    "from sklearn.linear_model import LinearRegression\n",
    "model = LinearRegression()"
   ]
  },
  {
   "cell_type": "code",
   "execution_count": 31,
   "metadata": {},
   "outputs": [
    {
     "name": "stdout",
     "output_type": "stream",
     "text": [
      "Training Score: 0.655456853701242\n",
      "Testing Score: 0.7081432704068881\n"
     ]
    }
   ],
   "source": [
    "### BEGIN SOLUTION\n",
    "model.fit(X_train_scaled, y_train)\n",
    "training_score = model.score(X_train_scaled, y_train)\n",
    "testing_score = model.score(X_test_scaled, y_test)\n",
    "\n",
    "### END SOLUTION \n",
    "\n",
    "print(f\"Training Score: {training_score}\")\n",
    "print(f\"Testing Score: {testing_score}\")"
   ]
  },
  {
   "cell_type": "code",
   "execution_count": 32,
   "metadata": {},
   "outputs": [
    {
     "data": {
      "text/plain": [
       "Text(0.5, 1.0, 'Residual Plot')"
      ]
     },
     "execution_count": 32,
     "metadata": {},
     "output_type": "execute_result"
    },
    {
     "data": {
      "image/png": "[encoded data removed]",
      "text/plain": [
       "<Figure size 432x288 with 1 Axes>"
      ]
     },
     "metadata": {
      "needs_background": "light"
     },
     "output_type": "display_data"
    }
   ],
   "source": [
    "plt.scatter(model.predict(X_train_scaled), model.predict(X_train_scaled) - y_train, c=\"blue\", label=\"Training Data\")\n",
    "plt.scatter(model.predict(X_test_scaled), model.predict(X_test_scaled) - y_test, c=\"orange\", label=\"Testing Data\")\n",
    "plt.legend()\n",
    "plt.hlines(y=0, xmin=y.min(), xmax=y.max())\n",
    "plt.title(\"Residual Plot\")\n"
   ]
  },
  {
   "cell_type": "code",
   "execution_count": 33,
   "metadata": {},
   "outputs": [
    {
     "data": {
      "text/plain": [
       "0.7081432704068881"
      ]
     },
     "execution_count": 33,
     "metadata": {},
     "output_type": "execute_result"
    }
   ],
   "source": [
    "model.score(X_test_scaled, y_test)"
   ]
  },
  {
   "cell_type": "code",
   "execution_count": 34,
   "metadata": {},
   "outputs": [
    {
     "data": {
      "text/plain": [
       "array([[1979.15628571],\n",
       "       [1951.72927785],\n",
       "       [1988.94825931],\n",
       "       [1963.80957633],\n",
       "       [2021.72741382],\n",
       "       [1978.53764297],\n",
       "       [1999.33143752],\n",
       "       [1991.22528793],\n",
       "       [1993.51668571],\n",
       "       [1958.66916615],\n",
       "       [1957.43369762],\n",
       "       [1995.75184646],\n",
       "       [2002.28841905],\n",
       "       [1979.51895946],\n",
       "       [1977.34429978],\n",
       "       [1973.95723575],\n",
       "       [2002.23825153],\n",
       "       [1960.0123208 ],\n",
       "       [2001.72108999],\n",
       "       [2007.63417862],\n",
       "       [1964.77785998],\n",
       "       [1989.82149415],\n",
       "       [2006.29463224],\n",
       "       [1972.13945946],\n",
       "       [1992.81295404],\n",
       "       [1948.81017335],\n",
       "       [1992.21011164],\n",
       "       [1975.44052918],\n",
       "       [1966.81253862],\n",
       "       [1978.76267309],\n",
       "       [1967.24762253],\n",
       "       [1987.19603016],\n",
       "       [1957.15146426],\n",
       "       [2005.49494187],\n",
       "       [2000.60918541],\n",
       "       [2007.05292371],\n",
       "       [1982.37304803],\n",
       "       [1998.80376442],\n",
       "       [2000.57256391],\n",
       "       [1982.7123216 ],\n",
       "       [1981.99813758],\n",
       "       [1986.12884535],\n",
       "       [1969.39239462],\n",
       "       [1972.01202175],\n",
       "       [1989.52771596],\n",
       "       [2007.12885123],\n",
       "       [1957.26015223],\n",
       "       [1972.58895541],\n",
       "       [1992.86412537],\n",
       "       [2002.32407452],\n",
       "       [1964.3016521 ],\n",
       "       [1996.85286096],\n",
       "       [1988.33307952],\n",
       "       [2000.60820369],\n",
       "       [1974.22060736],\n",
       "       [1985.98171764],\n",
       "       [1958.78793987],\n",
       "       [1990.71947818],\n",
       "       [1999.03305962],\n",
       "       [2001.35331355],\n",
       "       [1999.40834119],\n",
       "       [1998.31581318],\n",
       "       [1996.79956814],\n",
       "       [1992.99047788],\n",
       "       [1990.17644095],\n",
       "       [1959.25017929],\n",
       "       [1962.60271171],\n",
       "       [1982.2847776 ],\n",
       "       [1993.23873695],\n",
       "       [1972.64537367],\n",
       "       [2003.74207993],\n",
       "       [1981.80451496],\n",
       "       [1988.74768104],\n",
       "       [1955.96425314],\n",
       "       [1991.57231939],\n",
       "       [1982.3253268 ],\n",
       "       [1965.03489234],\n",
       "       [1977.43522704],\n",
       "       [1972.08264719],\n",
       "       [2003.48770604],\n",
       "       [1967.5146706 ],\n",
       "       [1985.58912926],\n",
       "       [1960.86396807],\n",
       "       [1965.93132211],\n",
       "       [1999.59091688],\n",
       "       [1960.09071562],\n",
       "       [2000.72497839],\n",
       "       [1995.53878715],\n",
       "       [1956.77478852],\n",
       "       [1959.22932908],\n",
       "       [2011.36459047],\n",
       "       [1961.05940876],\n",
       "       [2008.45923288],\n",
       "       [1989.18024996],\n",
       "       [1958.78444754],\n",
       "       [1964.74876423],\n",
       "       [1981.19191537],\n",
       "       [1979.74026075],\n",
       "       [1957.16145202],\n",
       "       [1964.93842227],\n",
       "       [1992.92819656],\n",
       "       [1940.35922781],\n",
       "       [1972.97083329],\n",
       "       [1971.43816828],\n",
       "       [1959.05715201],\n",
       "       [1985.80758699],\n",
       "       [1960.48274896],\n",
       "       [1958.40770307],\n",
       "       [1983.34867452],\n",
       "       [1963.14243632],\n",
       "       [1939.06513593],\n",
       "       [1998.95724553],\n",
       "       [1978.85103331],\n",
       "       [1975.15359108],\n",
       "       [1993.78069496],\n",
       "       [1998.92563872],\n",
       "       [1998.84028978],\n",
       "       [1957.47520501],\n",
       "       [1980.43039015],\n",
       "       [1991.09176181],\n",
       "       [1970.81201848],\n",
       "       [1978.64939701],\n",
       "       [1986.02096285],\n",
       "       [1990.08387286],\n",
       "       [2005.0769973 ],\n",
       "       [2003.86986665],\n",
       "       [1976.098794  ],\n",
       "       [2001.34492197],\n",
       "       [1959.39512074],\n",
       "       [1982.07065258],\n",
       "       [1970.94637987],\n",
       "       [1965.20455405],\n",
       "       [1964.25325529],\n",
       "       [1976.29251442],\n",
       "       [2007.02680576],\n",
       "       [1992.57060747],\n",
       "       [1966.75298434]])"
      ]
     },
     "execution_count": 34,
     "metadata": {},
     "output_type": "execute_result"
    }
   ],
   "source": [
    "model.predict(X_test_scaled)"
   ]
  },
  {
   "cell_type": "code",
   "execution_count": 35,
   "metadata": {},
   "outputs": [
    {
     "name": "stderr",
     "output_type": "stream",
     "text": [
      "C:\\Users\\kalbrecht\\Anaconda\\anaconda3\\lib\\site-packages\\ipykernel_launcher.py:3: DataConversionWarning: A column-vector y was passed when a 1d array was expected. Please change the shape of y to (n_samples,), for example using ravel().\n",
      "  This is separate from the ipykernel package so we can avoid doing imports until\n"
     ]
    },
    {
     "data": {
      "text/plain": [
       "0.06569343065693431"
      ]
     },
     "execution_count": 35,
     "metadata": {},
     "output_type": "execute_result"
    }
   ],
   "source": [
    "from sklearn.ensemble import RandomForestClassifier\n",
    "rf = RandomForestClassifier(n_estimators=53, random_state=897)\n",
    "rf = rf.fit(X_train_scaled, y_train)\n",
    "rf.score(X_test_scaled, y_test)"
   ]
  },
  {
   "cell_type": "code",
   "execution_count": 39,
   "metadata": {},
   "outputs": [
    {
     "data": {
      "text/plain": [
       "array([1996, 1961, 1979, 1962, 1990, 1991, 1973, 1990, 2005, 1963, 1969,\n",
       "       1987, 2005, 1964, 1982, 1982, 1984, 1957, 2002, 2000, 1964, 2013,\n",
       "       1984, 1966, 1984, 1953, 2015, 1965, 1954, 1982, 1969, 1979, 1953,\n",
       "       1995, 2009, 2005, 1973, 1978, 2012, 1992, 1964, 2002, 1952, 1991,\n",
       "       1977, 1981, 1958, 1965, 1982, 2015, 1954, 2001, 1969, 2000, 1966,\n",
       "       1983, 1951, 1983, 2014, 2010, 2008, 1990, 1989, 1987, 1978, 1957,\n",
       "       1962, 1986, 1999, 1962, 2002, 1972, 1986, 1953, 2001, 1962, 1968,\n",
       "       1955, 1958, 2013, 1962, 1966, 1952, 1965, 1978, 1952, 2002, 1990,\n",
       "       1954, 1958, 2008, 1955, 2009, 1985, 1965, 1959, 1975, 1968, 1957,\n",
       "       1955, 1988, 1950, 1972, 1975, 1952, 1986, 1954, 1964, 1962, 1954,\n",
       "       1950, 1980, 1968, 1985, 1981, 2015, 1997, 1954, 1970, 1986, 1975,\n",
       "       1962, 1979, 2000, 2004, 2009, 1959, 1996, 1965, 2000, 1975, 1964,\n",
       "       1968, 1961, 2010, 2012, 1977], dtype=int64)"
      ]
     },
     "execution_count": 39,
     "metadata": {},
     "output_type": "execute_result"
    }
   ],
   "source": [
    "rf.predict(X_test_scaled)"
   ]
  },
  {
   "cell_type": "code",
   "execution_count": 69,
   "metadata": {},
   "outputs": [],
   "source": [
    "df= pd.DataFrame(y_test, columns=[\"Actual\"])"
   ]
  },
  {
   "cell_type": "code",
   "execution_count": 70,
   "metadata": {},
   "outputs": [],
   "source": [
    "df[\"prediction\"]=rf.predict(X_test_scaled)"
   ]
  },
  {
   "cell_type": "code",
   "execution_count": 71,
   "metadata": {},
   "outputs": [],
   "source": [
    "df[\"decade\"]=df[\"Actual\"]"
   ]
  },
  {
   "cell_type": "code",
   "execution_count": 72,
   "metadata": {},
   "outputs": [],
   "source": [
    "df[\"decade\"]=df[\"decade\"].astype(str)"
   ]
  },
  {
   "cell_type": "code",
   "execution_count": 73,
   "metadata": {},
   "outputs": [
    {
     "data": {
      "text/plain": [
       "0      [, 1, 9, 7, 2, ]\n",
       "1      [, 1, 9, 5, 9, ]\n",
       "2      [, 1, 9, 9, 2, ]\n",
       "3      [, 1, 9, 6, 1, ]\n",
       "4      [, 1, 9, 9, 3, ]\n",
       "5      [, 1, 9, 7, 6, ]\n",
       "6      [, 1, 9, 7, 2, ]\n",
       "7      [, 1, 9, 8, 0, ]\n",
       "8      [, 2, 0, 1, 3, ]\n",
       "9      [, 1, 9, 7, 4, ]\n",
       "10     [, 1, 9, 5, 0, ]\n",
       "11     [, 1, 9, 9, 2, ]\n",
       "12     [, 2, 0, 0, 0, ]\n",
       "13     [, 1, 9, 8, 1, ]\n",
       "14     [, 1, 9, 8, 0, ]\n",
       "15     [, 1, 9, 8, 8, ]\n",
       "16     [, 2, 0, 1, 0, ]\n",
       "17     [, 1, 9, 5, 6, ]\n",
       "18     [, 2, 0, 0, 6, ]\n",
       "19     [, 2, 0, 1, 0, ]\n",
       "20     [, 1, 9, 5, 9, ]\n",
       "21     [, 2, 0, 0, 3, ]\n",
       "22     [, 2, 0, 1, 5, ]\n",
       "23     [, 1, 9, 7, 7, ]\n",
       "24     [, 1, 9, 8, 7, ]\n",
       "25     [, 1, 9, 5, 0, ]\n",
       "26     [, 1, 9, 9, 6, ]\n",
       "27     [, 1, 9, 7, 3, ]\n",
       "28     [, 1, 9, 5, 1, ]\n",
       "29     [, 1, 9, 7, 0, ]\n",
       "             ...       \n",
       "107    [, 1, 9, 5, 6, ]\n",
       "108    [, 1, 9, 6, 9, ]\n",
       "109    [, 1, 9, 5, 5, ]\n",
       "110    [, 1, 9, 6, 2, ]\n",
       "111    [, 1, 9, 9, 0, ]\n",
       "112    [, 1, 9, 8, 7, ]\n",
       "113    [, 1, 9, 8, 5, ]\n",
       "114    [, 1, 9, 7, 9, ]\n",
       "115    [, 2, 0, 1, 6, ]\n",
       "116    [, 1, 9, 9, 8, ]\n",
       "117    [, 1, 9, 7, 7, ]\n",
       "118    [, 1, 9, 9, 3, ]\n",
       "119    [, 1, 9, 9, 3, ]\n",
       "120    [, 1, 9, 9, 0, ]\n",
       "121    [, 1, 9, 7, 8, ]\n",
       "122    [, 1, 9, 7, 5, ]\n",
       "123    [, 2, 0, 0, 0, ]\n",
       "124    [, 2, 0, 1, 1, ]\n",
       "125    [, 2, 0, 1, 6, ]\n",
       "126    [, 1, 9, 7, 1, ]\n",
       "127    [, 1, 9, 9, 7, ]\n",
       "128    [, 1, 9, 5, 8, ]\n",
       "129    [, 1, 9, 8, 6, ]\n",
       "130    [, 1, 9, 7, 2, ]\n",
       "131    [, 1, 9, 6, 6, ]\n",
       "132    [, 1, 9, 7, 1, ]\n",
       "133    [, 1, 9, 6, 5, ]\n",
       "134    [, 2, 0, 0, 8, ]\n",
       "135    [, 2, 0, 1, 4, ]\n",
       "136    [, 1, 9, 7, 1, ]\n",
       "Name: decade, Length: 137, dtype: object"
      ]
     },
     "execution_count": 73,
     "metadata": {},
     "output_type": "execute_result"
    }
   ],
   "source": [
    "df[\"decade\"].str.split(\"\")"
   ]
  },
  {
   "cell_type": "code",
   "execution_count": 74,
   "metadata": {},
   "outputs": [],
   "source": [
    "def makeDecade(row):\n",
    "    x= [str(number) for number in row[0:3]]\n",
    "    return int(\"\".join(x))*10\n",
    "df[\"decade\"] = df[\"decade\"].apply(makeDecade)"
   ]
  },
  {
   "cell_type": "code",
   "execution_count": 75,
   "metadata": {},
   "outputs": [
    {
     "data": {
      "text/html": [
       "<div>\n",
       "<style scoped>\n",
       "    .dataframe tbody tr th:only-of-type {\n",
       "        vertical-align: middle;\n",
       "    }\n",
       "\n",
       "    .dataframe tbody tr th {\n",
       "        vertical-align: top;\n",
       "    }\n",
       "\n",
       "    .dataframe thead th {\n",
       "        text-align: right;\n",
       "    }\n",
       "</style>\n",
       "<table border=\"1\" class=\"dataframe\">\n",
       "  <thead>\n",
       "    <tr style=\"text-align: right;\">\n",
       "      <th></th>\n",
       "      <th>Actual</th>\n",
       "      <th>prediction</th>\n",
       "      <th>decade</th>\n",
       "    </tr>\n",
       "  </thead>\n",
       "  <tbody>\n",
       "    <tr>\n",
       "      <th>0</th>\n",
       "      <td>1972</td>\n",
       "      <td>1996</td>\n",
       "      <td>1970</td>\n",
       "    </tr>\n",
       "    <tr>\n",
       "      <th>1</th>\n",
       "      <td>1959</td>\n",
       "      <td>1961</td>\n",
       "      <td>1950</td>\n",
       "    </tr>\n",
       "    <tr>\n",
       "      <th>2</th>\n",
       "      <td>1992</td>\n",
       "      <td>1979</td>\n",
       "      <td>1990</td>\n",
       "    </tr>\n",
       "    <tr>\n",
       "      <th>3</th>\n",
       "      <td>1961</td>\n",
       "      <td>1962</td>\n",
       "      <td>1960</td>\n",
       "    </tr>\n",
       "    <tr>\n",
       "      <th>4</th>\n",
       "      <td>1993</td>\n",
       "      <td>1990</td>\n",
       "      <td>1990</td>\n",
       "    </tr>\n",
       "    <tr>\n",
       "      <th>5</th>\n",
       "      <td>1976</td>\n",
       "      <td>1991</td>\n",
       "      <td>1970</td>\n",
       "    </tr>\n",
       "    <tr>\n",
       "      <th>6</th>\n",
       "      <td>1972</td>\n",
       "      <td>1973</td>\n",
       "      <td>1970</td>\n",
       "    </tr>\n",
       "    <tr>\n",
       "      <th>7</th>\n",
       "      <td>1980</td>\n",
       "      <td>1990</td>\n",
       "      <td>1980</td>\n",
       "    </tr>\n",
       "    <tr>\n",
       "      <th>8</th>\n",
       "      <td>2013</td>\n",
       "      <td>2005</td>\n",
       "      <td>2010</td>\n",
       "    </tr>\n",
       "    <tr>\n",
       "      <th>9</th>\n",
       "      <td>1974</td>\n",
       "      <td>1963</td>\n",
       "      <td>1970</td>\n",
       "    </tr>\n",
       "    <tr>\n",
       "      <th>10</th>\n",
       "      <td>1950</td>\n",
       "      <td>1969</td>\n",
       "      <td>1950</td>\n",
       "    </tr>\n",
       "    <tr>\n",
       "      <th>11</th>\n",
       "      <td>1992</td>\n",
       "      <td>1987</td>\n",
       "      <td>1990</td>\n",
       "    </tr>\n",
       "    <tr>\n",
       "      <th>12</th>\n",
       "      <td>2000</td>\n",
       "      <td>2005</td>\n",
       "      <td>2000</td>\n",
       "    </tr>\n",
       "    <tr>\n",
       "      <th>13</th>\n",
       "      <td>1981</td>\n",
       "      <td>1964</td>\n",
       "      <td>1980</td>\n",
       "    </tr>\n",
       "    <tr>\n",
       "      <th>14</th>\n",
       "      <td>1980</td>\n",
       "      <td>1982</td>\n",
       "      <td>1980</td>\n",
       "    </tr>\n",
       "    <tr>\n",
       "      <th>15</th>\n",
       "      <td>1988</td>\n",
       "      <td>1982</td>\n",
       "      <td>1980</td>\n",
       "    </tr>\n",
       "    <tr>\n",
       "      <th>16</th>\n",
       "      <td>2010</td>\n",
       "      <td>1984</td>\n",
       "      <td>2010</td>\n",
       "    </tr>\n",
       "    <tr>\n",
       "      <th>17</th>\n",
       "      <td>1956</td>\n",
       "      <td>1957</td>\n",
       "      <td>1950</td>\n",
       "    </tr>\n",
       "    <tr>\n",
       "      <th>18</th>\n",
       "      <td>2006</td>\n",
       "      <td>2002</td>\n",
       "      <td>2000</td>\n",
       "    </tr>\n",
       "    <tr>\n",
       "      <th>19</th>\n",
       "      <td>2010</td>\n",
       "      <td>2000</td>\n",
       "      <td>2010</td>\n",
       "    </tr>\n",
       "    <tr>\n",
       "      <th>20</th>\n",
       "      <td>1959</td>\n",
       "      <td>1964</td>\n",
       "      <td>1950</td>\n",
       "    </tr>\n",
       "    <tr>\n",
       "      <th>21</th>\n",
       "      <td>2003</td>\n",
       "      <td>2013</td>\n",
       "      <td>2000</td>\n",
       "    </tr>\n",
       "    <tr>\n",
       "      <th>22</th>\n",
       "      <td>2015</td>\n",
       "      <td>1984</td>\n",
       "      <td>2010</td>\n",
       "    </tr>\n",
       "    <tr>\n",
       "      <th>23</th>\n",
       "      <td>1977</td>\n",
       "      <td>1966</td>\n",
       "      <td>1970</td>\n",
       "    </tr>\n",
       "    <tr>\n",
       "      <th>24</th>\n",
       "      <td>1987</td>\n",
       "      <td>1984</td>\n",
       "      <td>1980</td>\n",
       "    </tr>\n",
       "    <tr>\n",
       "      <th>25</th>\n",
       "      <td>1950</td>\n",
       "      <td>1953</td>\n",
       "      <td>1950</td>\n",
       "    </tr>\n",
       "    <tr>\n",
       "      <th>26</th>\n",
       "      <td>1996</td>\n",
       "      <td>2015</td>\n",
       "      <td>1990</td>\n",
       "    </tr>\n",
       "    <tr>\n",
       "      <th>27</th>\n",
       "      <td>1973</td>\n",
       "      <td>1965</td>\n",
       "      <td>1970</td>\n",
       "    </tr>\n",
       "    <tr>\n",
       "      <th>28</th>\n",
       "      <td>1951</td>\n",
       "      <td>1954</td>\n",
       "      <td>1950</td>\n",
       "    </tr>\n",
       "    <tr>\n",
       "      <th>29</th>\n",
       "      <td>1970</td>\n",
       "      <td>1982</td>\n",
       "      <td>1970</td>\n",
       "    </tr>\n",
       "    <tr>\n",
       "      <th>...</th>\n",
       "      <td>...</td>\n",
       "      <td>...</td>\n",
       "      <td>...</td>\n",
       "    </tr>\n",
       "    <tr>\n",
       "      <th>107</th>\n",
       "      <td>1956</td>\n",
       "      <td>1964</td>\n",
       "      <td>1950</td>\n",
       "    </tr>\n",
       "    <tr>\n",
       "      <th>108</th>\n",
       "      <td>1969</td>\n",
       "      <td>1962</td>\n",
       "      <td>1960</td>\n",
       "    </tr>\n",
       "    <tr>\n",
       "      <th>109</th>\n",
       "      <td>1955</td>\n",
       "      <td>1954</td>\n",
       "      <td>1950</td>\n",
       "    </tr>\n",
       "    <tr>\n",
       "      <th>110</th>\n",
       "      <td>1962</td>\n",
       "      <td>1950</td>\n",
       "      <td>1960</td>\n",
       "    </tr>\n",
       "    <tr>\n",
       "      <th>111</th>\n",
       "      <td>1990</td>\n",
       "      <td>1980</td>\n",
       "      <td>1990</td>\n",
       "    </tr>\n",
       "    <tr>\n",
       "      <th>112</th>\n",
       "      <td>1987</td>\n",
       "      <td>1968</td>\n",
       "      <td>1980</td>\n",
       "    </tr>\n",
       "    <tr>\n",
       "      <th>113</th>\n",
       "      <td>1985</td>\n",
       "      <td>1985</td>\n",
       "      <td>1980</td>\n",
       "    </tr>\n",
       "    <tr>\n",
       "      <th>114</th>\n",
       "      <td>1979</td>\n",
       "      <td>1981</td>\n",
       "      <td>1970</td>\n",
       "    </tr>\n",
       "    <tr>\n",
       "      <th>115</th>\n",
       "      <td>2016</td>\n",
       "      <td>2015</td>\n",
       "      <td>2010</td>\n",
       "    </tr>\n",
       "    <tr>\n",
       "      <th>116</th>\n",
       "      <td>1998</td>\n",
       "      <td>1997</td>\n",
       "      <td>1990</td>\n",
       "    </tr>\n",
       "    <tr>\n",
       "      <th>117</th>\n",
       "      <td>1977</td>\n",
       "      <td>1954</td>\n",
       "      <td>1970</td>\n",
       "    </tr>\n",
       "    <tr>\n",
       "      <th>118</th>\n",
       "      <td>1993</td>\n",
       "      <td>1970</td>\n",
       "      <td>1990</td>\n",
       "    </tr>\n",
       "    <tr>\n",
       "      <th>119</th>\n",
       "      <td>1993</td>\n",
       "      <td>1986</td>\n",
       "      <td>1990</td>\n",
       "    </tr>\n",
       "    <tr>\n",
       "      <th>120</th>\n",
       "      <td>1990</td>\n",
       "      <td>1975</td>\n",
       "      <td>1990</td>\n",
       "    </tr>\n",
       "    <tr>\n",
       "      <th>121</th>\n",
       "      <td>1978</td>\n",
       "      <td>1962</td>\n",
       "      <td>1970</td>\n",
       "    </tr>\n",
       "    <tr>\n",
       "      <th>122</th>\n",
       "      <td>1975</td>\n",
       "      <td>1979</td>\n",
       "      <td>1970</td>\n",
       "    </tr>\n",
       "    <tr>\n",
       "      <th>123</th>\n",
       "      <td>2000</td>\n",
       "      <td>2000</td>\n",
       "      <td>2000</td>\n",
       "    </tr>\n",
       "    <tr>\n",
       "      <th>124</th>\n",
       "      <td>2011</td>\n",
       "      <td>2004</td>\n",
       "      <td>2010</td>\n",
       "    </tr>\n",
       "    <tr>\n",
       "      <th>125</th>\n",
       "      <td>2016</td>\n",
       "      <td>2009</td>\n",
       "      <td>2010</td>\n",
       "    </tr>\n",
       "    <tr>\n",
       "      <th>126</th>\n",
       "      <td>1971</td>\n",
       "      <td>1959</td>\n",
       "      <td>1970</td>\n",
       "    </tr>\n",
       "    <tr>\n",
       "      <th>127</th>\n",
       "      <td>1997</td>\n",
       "      <td>1996</td>\n",
       "      <td>1990</td>\n",
       "    </tr>\n",
       "    <tr>\n",
       "      <th>128</th>\n",
       "      <td>1958</td>\n",
       "      <td>1965</td>\n",
       "      <td>1950</td>\n",
       "    </tr>\n",
       "    <tr>\n",
       "      <th>129</th>\n",
       "      <td>1986</td>\n",
       "      <td>2000</td>\n",
       "      <td>1980</td>\n",
       "    </tr>\n",
       "    <tr>\n",
       "      <th>130</th>\n",
       "      <td>1972</td>\n",
       "      <td>1975</td>\n",
       "      <td>1970</td>\n",
       "    </tr>\n",
       "    <tr>\n",
       "      <th>131</th>\n",
       "      <td>1966</td>\n",
       "      <td>1964</td>\n",
       "      <td>1960</td>\n",
       "    </tr>\n",
       "    <tr>\n",
       "      <th>132</th>\n",
       "      <td>1971</td>\n",
       "      <td>1968</td>\n",
       "      <td>1970</td>\n",
       "    </tr>\n",
       "    <tr>\n",
       "      <th>133</th>\n",
       "      <td>1965</td>\n",
       "      <td>1961</td>\n",
       "      <td>1960</td>\n",
       "    </tr>\n",
       "    <tr>\n",
       "      <th>134</th>\n",
       "      <td>2008</td>\n",
       "      <td>2010</td>\n",
       "      <td>2000</td>\n",
       "    </tr>\n",
       "    <tr>\n",
       "      <th>135</th>\n",
       "      <td>2014</td>\n",
       "      <td>2012</td>\n",
       "      <td>2010</td>\n",
       "    </tr>\n",
       "    <tr>\n",
       "      <th>136</th>\n",
       "      <td>1971</td>\n",
       "      <td>1977</td>\n",
       "      <td>1970</td>\n",
       "    </tr>\n",
       "  </tbody>\n",
       "</table>\n",
       "<p>137 rows × 3 columns</p>\n",
       "</div>"
      ],
      "text/plain": [
       "     Actual  prediction  decade\n",
       "0      1972        1996    1970\n",
       "1      1959        1961    1950\n",
       "2      1992        1979    1990\n",
       "3      1961        1962    1960\n",
       "4      1993        1990    1990\n",
       "5      1976        1991    1970\n",
       "6      1972        1973    1970\n",
       "7      1980        1990    1980\n",
       "8      2013        2005    2010\n",
       "9      1974        1963    1970\n",
       "10     1950        1969    1950\n",
       "11     1992        1987    1990\n",
       "12     2000        2005    2000\n",
       "13     1981        1964    1980\n",
       "14     1980        1982    1980\n",
       "15     1988        1982    1980\n",
       "16     2010        1984    2010\n",
       "17     1956        1957    1950\n",
       "18     2006        2002    2000\n",
       "19     2010        2000    2010\n",
       "20     1959        1964    1950\n",
       "21     2003        2013    2000\n",
       "22     2015        1984    2010\n",
       "23     1977        1966    1970\n",
       "24     1987        1984    1980\n",
       "25     1950        1953    1950\n",
       "26     1996        2015    1990\n",
       "27     1973        1965    1970\n",
       "28     1951        1954    1950\n",
       "29     1970        1982    1970\n",
       "..      ...         ...     ...\n",
       "107    1956        1964    1950\n",
       "108    1969        1962    1960\n",
       "109    1955        1954    1950\n",
       "110    1962        1950    1960\n",
       "111    1990        1980    1990\n",
       "112    1987        1968    1980\n",
       "113    1985        1985    1980\n",
       "114    1979        1981    1970\n",
       "115    2016        2015    2010\n",
       "116    1998        1997    1990\n",
       "117    1977        1954    1970\n",
       "118    1993        1970    1990\n",
       "119    1993        1986    1990\n",
       "120    1990        1975    1990\n",
       "121    1978        1962    1970\n",
       "122    1975        1979    1970\n",
       "123    2000        2000    2000\n",
       "124    2011        2004    2010\n",
       "125    2016        2009    2010\n",
       "126    1971        1959    1970\n",
       "127    1997        1996    1990\n",
       "128    1958        1965    1950\n",
       "129    1986        2000    1980\n",
       "130    1972        1975    1970\n",
       "131    1966        1964    1960\n",
       "132    1971        1968    1970\n",
       "133    1965        1961    1960\n",
       "134    2008        2010    2000\n",
       "135    2014        2012    2010\n",
       "136    1971        1977    1970\n",
       "\n",
       "[137 rows x 3 columns]"
      ]
     },
     "execution_count": 75,
     "metadata": {},
     "output_type": "execute_result"
    }
   ],
   "source": [
    "df"
   ]
  },
  {
   "cell_type": "code",
   "execution_count": null,
   "metadata": {},
   "outputs": [],
   "source": []
  },
  {
   "cell_type": "code",
   "execution_count": 14,
   "metadata": {},
   "outputs": [],
   "source": [
    "# Analysis with Neural Networks Deep Learning\n",
    "import os\n",
    "import tensorflow as tf\n",
    "from tensorflow.keras.models import Sequential\n",
    "from tensorflow.keras.utils import to_categorical\n",
    "from tensorflow.keras.layers import Dense\n",
    "import numpy as np\n",
    "from numpy.random import seed\n",
    "seed(1)"
   ]
  },
  {
   "cell_type": "code",
   "execution_count": 15,
   "metadata": {},
   "outputs": [],
   "source": [
    "# Preprocessing the data"
   ]
  },
  {
   "cell_type": "code",
   "execution_count": 16,
   "metadata": {},
   "outputs": [
    {
     "data": {
      "text/plain": [
       "(410, 10)"
      ]
     },
     "execution_count": 16,
     "metadata": {},
     "output_type": "execute_result"
    }
   ],
   "source": [
    "X_train_scaled.shape"
   ]
  },
  {
   "cell_type": "code",
   "execution_count": null,
   "metadata": {},
   "outputs": [],
   "source": [
    "# label encode years..."
   ]
  },
  {
   "cell_type": "code",
   "execution_count": 17,
   "metadata": {},
   "outputs": [
    {
     "data": {
      "text/plain": [
       "1"
      ]
     },
     "execution_count": 17,
     "metadata": {},
     "output_type": "execute_result"
    }
   ],
   "source": [
    "y_train.shape[1]"
   ]
  },
  {
   "cell_type": "code",
   "execution_count": 18,
   "metadata": {},
   "outputs": [
    {
     "name": "stdout",
     "output_type": "stream",
     "text": [
      "[[0. 0. 0. ... 0. 0. 0.]\n",
      " [0. 0. 0. ... 0. 0. 0.]\n",
      " [0. 0. 0. ... 0. 0. 0.]\n",
      " ...\n",
      " [0. 0. 0. ... 0. 0. 0.]\n",
      " [0. 0. 0. ... 0. 0. 0.]\n",
      " [0. 0. 0. ... 0. 0. 0.]]\n"
     ]
    }
   ],
   "source": [
    "y_train_neural = to_categorical(y_train)\n",
    "print(y_train_neural)"
   ]
  },
  {
   "cell_type": "code",
   "execution_count": 19,
   "metadata": {},
   "outputs": [
    {
     "data": {
      "text/plain": [
       "(410, 2017)"
      ]
     },
     "execution_count": 19,
     "metadata": {},
     "output_type": "execute_result"
    }
   ],
   "source": [
    "y_train_neural.shape"
   ]
  },
  {
   "cell_type": "code",
   "execution_count": 20,
   "metadata": {},
   "outputs": [],
   "source": [
    "model = Sequential()"
   ]
  },
  {
   "cell_type": "code",
   "execution_count": 21,
   "metadata": {},
   "outputs": [],
   "source": [
    "model.add(Dense(100, activation='relu', input_dim=X_train_scaled.shape[1]))"
   ]
  },
  {
   "cell_type": "code",
   "execution_count": 22,
   "metadata": {},
   "outputs": [],
   "source": [
    "model.add(Dense(100, activation='relu'))"
   ]
  },
  {
   "cell_type": "code",
   "execution_count": 23,
   "metadata": {},
   "outputs": [],
   "source": [
    "model.add(Dense(100, activation='relu'))"
   ]
  },
  {
   "cell_type": "code",
   "execution_count": 24,
   "metadata": {},
   "outputs": [],
   "source": [
    "model.add(Dense(100, activation='relu'))"
   ]
  },
  {
   "cell_type": "code",
   "execution_count": 25,
   "metadata": {},
   "outputs": [],
   "source": [
    "model.add(Dense(100, activation='relu'))"
   ]
  },
  {
   "cell_type": "code",
   "execution_count": 26,
   "metadata": {},
   "outputs": [],
   "source": [
    "model.add(Dense(y_train.shape[1], activation=\"softmax\"))"
   ]
  },
  {
   "cell_type": "code",
   "execution_count": 27,
   "metadata": {},
   "outputs": [],
   "source": [
    "model.compile(loss=\"categorical_crossentropy\",\n",
    "              optimizer=\"adam\", metrics=['accuracy'])"
   ]
  },
  {
   "cell_type": "code",
   "execution_count": 28,
   "metadata": {},
   "outputs": [
    {
     "ename": "NameError",
     "evalue": "name 'X_train_neural' is not defined",
     "output_type": "error",
     "traceback": [
      "\u001b[1;31m---------------------------------------------------------------------------\u001b[0m",
      "\u001b[1;31mNameError\u001b[0m                                 Traceback (most recent call last)",
      "\u001b[1;32m<ipython-input-28-6422f7c704a4>\u001b[0m in \u001b[0;36m<module>\u001b[1;34m\u001b[0m\n\u001b[0;32m      1\u001b[0m model.fit(\n\u001b[1;32m----> 2\u001b[1;33m     \u001b[0mX_train_neural\u001b[0m\u001b[1;33m,\u001b[0m\u001b[1;33m\u001b[0m\u001b[1;33m\u001b[0m\u001b[0m\n\u001b[0m\u001b[0;32m      3\u001b[0m     \u001b[0my_train_neural\u001b[0m\u001b[1;33m,\u001b[0m\u001b[1;33m\u001b[0m\u001b[1;33m\u001b[0m\u001b[0m\n\u001b[0;32m      4\u001b[0m     \u001b[0mepochs\u001b[0m\u001b[1;33m=\u001b[0m\u001b[1;36m2\u001b[0m\u001b[1;33m,\u001b[0m\u001b[1;33m\u001b[0m\u001b[1;33m\u001b[0m\u001b[0m\n\u001b[0;32m      5\u001b[0m     \u001b[0mshuffle\u001b[0m\u001b[1;33m=\u001b[0m\u001b[1;32mTrue\u001b[0m\u001b[1;33m,\u001b[0m\u001b[1;33m\u001b[0m\u001b[1;33m\u001b[0m\u001b[0m\n",
      "\u001b[1;31mNameError\u001b[0m: name 'X_train_neural' is not defined"
     ]
    }
   ],
   "source": [
    "model.fit(\n",
    "    X_train_neural,\n",
    "    y_train_neural,\n",
    "    epochs=2,\n",
    "    shuffle=True,\n",
    "    verbose=3\n",
    ")"
   ]
  },
  {
   "cell_type": "code",
   "execution_count": null,
   "metadata": {},
   "outputs": [],
   "source": [
    "model.save(\"Final_NN\")"
   ]
  },
  {
   "cell_type": "code",
   "execution_count": null,
   "metadata": {},
   "outputs": [],
   "source": [
    "from tensorflow.keras.models import load_model\n",
    "model = load_model(\"Final_NN\")"
   ]
  },
  {
   "cell_type": "code",
   "execution_count": null,
   "metadata": {},
   "outputs": [],
   "source": [
    "model_loss, model_accuracy = model.evaluate(X_test, y_test, verbose=2)\n",
    "print(f\"Loss: {model_loss}, Accuracy: {model_accuracy}\")"
   ]
  },
  {
   "cell_type": "code",
   "execution_count": null,
   "metadata": {},
   "outputs": [],
   "source": [
    "test = np.expand_dims(X_test[0], axis=0)\n",
    "test.shape"
   ]
  },
  {
   "cell_type": "code",
   "execution_count": null,
   "metadata": {},
   "outputs": [],
   "source": [
    "print(f\"Predicted class: {model.predict_classes(test)}\")"
   ]
  }
 ],
 "metadata": {
  "kernelspec": {
   "display_name": "Python 3",
   "language": "python",
   "name": "python3"
  },
  "language_info": {
   "codemirror_mode": {
    "name": "ipython",
    "version": 3
   },
   "file_extension": ".py",
   "mimetype": "text/x-python",
   "name": "python",
   "nbconvert_exporter": "python",
   "pygments_lexer": "ipython3",
   "version": "3.7.3"
  }
 },
 "nbformat": 4,
 "nbformat_minor": 2
}
